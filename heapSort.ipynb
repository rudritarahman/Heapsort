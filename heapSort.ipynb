{
 "cells": [
  {
   "cell_type": "code",
   "execution_count": null,
   "metadata": {},
   "outputs": [
    {
     "ename": "",
     "evalue": "",
     "output_type": "error",
     "traceback": [
      "\u001b[1;31mRunning cells with 'Python 3.9.6 64-bit' requires ipykernel package.\n",
      "Run the following command to install 'ipykernel' into the Python environment. \n",
      "Command: 'C:/Python/Python39/python.exe -m pip install ipykernel -U --user --force-reinstall'"
     ]
    }
   ],
   "source": [
    " \n",
    "def max_heapify(A, i):\n",
    "  if (l <= n and A[l] > A[i]):\n",
    "    largest = l\n",
    "  else:\n",
    "    largest = i\n",
    "\n",
    "  if r <= n and A[r] > A[largest]:\n",
    "    largest = r\n",
    "\n",
    "  if largest != i:\n",
    "    A[i], A[largest] = A[largest], A[i] # swap\n",
    "\n",
    "  max_heapify(A, largest)\n",
    "\n",
    "def build_maxHeap(A):\n",
    "  for i in range(n // 2, 1, -1):\n",
    "    max_heapify(A, i)\n",
    "\n",
    "def heap_sort(A):\n",
    "  build_maxHeap(A)\n",
    "  for i in range(n, 2, -1):\n",
    "    A[1], A[i] = A[i], A[i] # swap\n",
    "    max_heapify(A, i)\n",
    "\n",
    "# Driver code to test above\n",
    "A = [ 12, 11, 13, 5, 6, 7]\n",
    "heap_sort(A)\n",
    "n = len(A)\n",
    "print (\"Sorted array is\")\n",
    "for i in range(n):\n",
    "\tprint (\"%d\" %A[i]),"
   ]
  }
 ],
 "metadata": {
  "interpreter": {
   "hash": "ee5cc6fef2d70a7e71ee3826687cbd150f18158e0b1eef11d4f4f92bb920e304"
  },
  "kernelspec": {
   "display_name": "Python 3.9.6 64-bit",
   "language": "python",
   "name": "python3"
  },
  "language_info": {
   "name": "python",
   "version": "3.9.6"
  },
  "orig_nbformat": 4
 },
 "nbformat": 4,
 "nbformat_minor": 2
}
